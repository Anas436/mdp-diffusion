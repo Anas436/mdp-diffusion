{
 "cells": [
  {
   "cell_type": "markdown",
   "id": "fbdb37ad-67df-456c-bc90-743a4cd2ec13",
   "metadata": {},
   "source": [
    "# MDP with Gradient\n",
    "\n",
    "We can use MDP on a wide variety of single GPU and Multi GPU machines with effectively no time spent waiting for the demo to run.\n",
    "\n",
    "To run MDP in this notebook, run the cell below to install the required dependencies."
   ]
  },
  {
   "cell_type": "code",
   "execution_count": null,
   "id": "e5acaac2-5dcf-47b8-a4bb-8b527b21d308",
   "metadata": {},
   "outputs": [],
   "source": [
    "!bash installations.sh"
   ]
  },
  {
   "cell_type": "markdown",
   "id": "79475c36-1456-49ce-ac6d-2f4e7967e2df",
   "metadata": {},
   "source": [
    "MDP model doesn't require any training. It uses the pre-trained Stable Diffusion model. We have taken care of fetching pre-trained diffusion model checkpoints as part of the code.\n",
    "\n",
    "## Launch Real-Image Editing Gradio App\n",
    "\n",
    "As part of this demo, you can edit any image based on text prompt. You should be able to run the model even on single 8G GPU. Run the below code and try the model yourself."
   ]
  },
  {
   "cell_type": "code",
   "execution_count": null,
   "id": "67589015-f4d1-4c64-9e86-f29be8b48ab0",
   "metadata": {},
   "outputs": [],
   "source": [
    "!gradio app_real_image_editing.py"
   ]
  },
  {
   "cell_type": "markdown",
   "id": "720b4970-6de3-4425-9693-7b30550a6956",
   "metadata": {},
   "source": [
    "## Launch Synthetic-Image Editing Gradio App\n",
    "\n",
    "As part of this demo, you can first generate image using text prompt and then you can edit that image using another text prompt. You should be able to run the model even on single 8G GPU. Run the below code and try the model yourself."
   ]
  },
  {
   "cell_type": "code",
   "execution_count": null,
   "id": "9d7e9914-02a5-4107-b6a1-884bd4a50815",
   "metadata": {},
   "outputs": [],
   "source": [
    "!gradio app_synthetic_image_editing.py"
   ]
  }
 ],
 "metadata": {
  "kernelspec": {
   "display_name": "Python 3 (ipykernel)",
   "language": "python",
   "name": "python3"
  },
  "language_info": {
   "codemirror_mode": {
    "name": "ipython",
    "version": 3
   },
   "file_extension": ".py",
   "mimetype": "text/x-python",
   "name": "python",
   "nbconvert_exporter": "python",
   "pygments_lexer": "ipython3",
   "version": "3.9.16"
  }
 },
 "nbformat": 4,
 "nbformat_minor": 5
}
